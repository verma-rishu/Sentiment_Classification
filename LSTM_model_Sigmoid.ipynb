{
  "cells": [
    {
      "cell_type": "code",
      "execution_count": 7,
      "metadata": {
        "colab": {
          "base_uri": "https://localhost:8080/"
        },
        "id": "fJcdCsboG-zo",
        "outputId": "2823628b-831a-4f72-a825-bb524f7b4af2"
      },
      "outputs": [
        {
          "name": "stdout",
          "output_type": "stream",
          "text": [
            "Drive already mounted at /content/drive; to attempt to forcibly remount, call drive.mount(\"/content/drive\", force_remount=True).\n"
          ]
        }
      ],
      "source": [
        "from google.colab import drive\n",
        "drive.mount('/content/drive')"
      ]
    },
    {
      "cell_type": "code",
      "execution_count": 8,
      "metadata": {
        "id": "Rnfesu76Hfc3"
      },
      "outputs": [],
      "source": [
        "import os\n",
        "import sys\n",
        "#list the current working dir\n",
        "os.getcwd()\n",
        "#change the current working dir\n",
        "os.chdir('/content/drive/MyDrive/sentiment_classsification/')"
      ]
    },
    {
      "cell_type": "code",
      "execution_count": 9,
      "metadata": {
        "colab": {
          "base_uri": "https://localhost:8080/",
          "height": 35
        },
        "id": "AgZRf_HyHYbK",
        "outputId": "870ec016-2130-468c-fd7b-33963a900c2d"
      },
      "outputs": [
        {
          "data": {
            "application/vnd.google.colaboratory.intrinsic+json": {
              "type": "string"
            },
            "text/plain": [
              "'/content/drive/MyDrive/sentiment_classsification'"
            ]
          },
          "execution_count": 9,
          "metadata": {},
          "output_type": "execute_result"
        }
      ],
      "source": [
        "pwd"
      ]
    },
    {
      "cell_type": "markdown",
      "metadata": {
        "id": "xKfLj9sZD44G"
      },
      "source": [
        "Implementation of LSTM"
      ]
    },
    {
      "cell_type": "code",
      "execution_count": null,
      "metadata": {
        "colab": {
          "base_uri": "https://localhost:8080/"
        },
        "id": "it9FKC2wLeD0",
        "outputId": "5564e2d1-d672-4cbf-b79f-822c339c1f13"
      },
      "outputs": [],
      "source": [
        "import torch\n",
        "import time\n",
        "import pandas as pd\n",
        "import numpy as np\n",
        "import matplotlib.pyplot as plt \n",
        "import torch.optim as opt\n",
        "import torch.nn as nn\n",
        "import seaborn as sns\n",
        "import string\n",
        "import re\n",
        "import nltk\n",
        "from nltk.corpus import stopwords \n",
        "from collections import Counter\n",
        "from torch.utils.data import TensorDataset, DataLoader\n",
        "from sklearn.model_selection import train_test_split \n",
        "from sklearn.metrics import classification_report\n",
        "%matplotlib inline\n",
        "nltk.download('stopwords')"
      ]
    },
    {
      "cell_type": "code",
      "execution_count": 11,
      "metadata": {
        "colab": {
          "base_uri": "https://localhost:8080/",
          "height": 406
        },
        "id": "e8WV306bDwgm",
        "outputId": "3fa7f816-e592-4e4b-fe35-31597efb099a"
      },
      "outputs": [
        {
          "data": {
            "text/html": [
              "\n",
              "  <div id=\"df-06886e50-52a0-4b88-8365-d0583ff597d1\">\n",
              "    <div class=\"colab-df-container\">\n",
              "      <div>\n",
              "<style scoped>\n",
              "    .dataframe tbody tr th:only-of-type {\n",
              "        vertical-align: middle;\n",
              "    }\n",
              "\n",
              "    .dataframe tbody tr th {\n",
              "        vertical-align: top;\n",
              "    }\n",
              "\n",
              "    .dataframe thead th {\n",
              "        text-align: right;\n",
              "    }\n",
              "</style>\n",
              "<table border=\"1\" class=\"dataframe\">\n",
              "  <thead>\n",
              "    <tr style=\"text-align: right;\">\n",
              "      <th></th>\n",
              "      <th>review_id</th>\n",
              "      <th>user_id</th>\n",
              "      <th>business_id</th>\n",
              "      <th>stars</th>\n",
              "      <th>useful</th>\n",
              "      <th>funny</th>\n",
              "      <th>cool</th>\n",
              "      <th>text</th>\n",
              "      <th>date</th>\n",
              "    </tr>\n",
              "  </thead>\n",
              "  <tbody>\n",
              "    <tr>\n",
              "      <th>0</th>\n",
              "      <td>KU_O5udG6zpxOg-VcAEodg</td>\n",
              "      <td>mh_-eMZ6K5RLWhZyISBhwA</td>\n",
              "      <td>XQfwVwDr-v0ZS3_CbbE5Xw</td>\n",
              "      <td>3.0</td>\n",
              "      <td>0.0</td>\n",
              "      <td>0.0</td>\n",
              "      <td>0.0</td>\n",
              "      <td>If you decide to eat here, just be aware it is...</td>\n",
              "      <td>2018-07-07 22:09:11</td>\n",
              "    </tr>\n",
              "    <tr>\n",
              "      <th>1</th>\n",
              "      <td>BiTunyQ73aT9WBnpR9DZGw</td>\n",
              "      <td>OyoGAe7OKpv6SyGZT5g77Q</td>\n",
              "      <td>7ATYjTIgM3jUlt4UM3IypQ</td>\n",
              "      <td>5.0</td>\n",
              "      <td>1.0</td>\n",
              "      <td>0.0</td>\n",
              "      <td>1.0</td>\n",
              "      <td>I've taken a lot of spin classes over the year...</td>\n",
              "      <td>2012-01-03 15:28:18</td>\n",
              "    </tr>\n",
              "    <tr>\n",
              "      <th>2</th>\n",
              "      <td>saUsX_uimxRlCVr67Z4Jig</td>\n",
              "      <td>8g_iMtfSiwikVnbP2etR0A</td>\n",
              "      <td>YjUWPpI6HXG530lwP-fb2A</td>\n",
              "      <td>3.0</td>\n",
              "      <td>0.0</td>\n",
              "      <td>0.0</td>\n",
              "      <td>0.0</td>\n",
              "      <td>Family diner. Had the buffet. Eclectic assortm...</td>\n",
              "      <td>2014-02-05 20:30:30</td>\n",
              "    </tr>\n",
              "    <tr>\n",
              "      <th>3</th>\n",
              "      <td>AqPFMleE6RsU23_auESxiA</td>\n",
              "      <td>_7bHUi9Uuf5__HHc_Q8guQ</td>\n",
              "      <td>kxX2SOes4o-D3ZQBkiMRfA</td>\n",
              "      <td>5.0</td>\n",
              "      <td>1.0</td>\n",
              "      <td>0.0</td>\n",
              "      <td>1.0</td>\n",
              "      <td>Wow!  Yummy, different,  delicious.   Our favo...</td>\n",
              "      <td>2015-01-04 00:01:03</td>\n",
              "    </tr>\n",
              "    <tr>\n",
              "      <th>4</th>\n",
              "      <td>Sx8TMOWLNuJBWer-0pcmoA</td>\n",
              "      <td>bcjbaE6dDog4jkNY91ncLQ</td>\n",
              "      <td>e4Vwtrqf-wpJfwesgvdgxQ</td>\n",
              "      <td>4.0</td>\n",
              "      <td>1.0</td>\n",
              "      <td>0.0</td>\n",
              "      <td>1.0</td>\n",
              "      <td>Cute interior and owner (?) gave us tour of up...</td>\n",
              "      <td>2017-01-14 20:54:15</td>\n",
              "    </tr>\n",
              "  </tbody>\n",
              "</table>\n",
              "</div>\n",
              "      <button class=\"colab-df-convert\" onclick=\"convertToInteractive('df-06886e50-52a0-4b88-8365-d0583ff597d1')\"\n",
              "              title=\"Convert this dataframe to an interactive table.\"\n",
              "              style=\"display:none;\">\n",
              "        \n",
              "  <svg xmlns=\"http://www.w3.org/2000/svg\" height=\"24px\"viewBox=\"0 0 24 24\"\n",
              "       width=\"24px\">\n",
              "    <path d=\"M0 0h24v24H0V0z\" fill=\"none\"/>\n",
              "    <path d=\"M18.56 5.44l.94 2.06.94-2.06 2.06-.94-2.06-.94-.94-2.06-.94 2.06-2.06.94zm-11 1L8.5 8.5l.94-2.06 2.06-.94-2.06-.94L8.5 2.5l-.94 2.06-2.06.94zm10 10l.94 2.06.94-2.06 2.06-.94-2.06-.94-.94-2.06-.94 2.06-2.06.94z\"/><path d=\"M17.41 7.96l-1.37-1.37c-.4-.4-.92-.59-1.43-.59-.52 0-1.04.2-1.43.59L10.3 9.45l-7.72 7.72c-.78.78-.78 2.05 0 2.83L4 21.41c.39.39.9.59 1.41.59.51 0 1.02-.2 1.41-.59l7.78-7.78 2.81-2.81c.8-.78.8-2.07 0-2.86zM5.41 20L4 18.59l7.72-7.72 1.47 1.35L5.41 20z\"/>\n",
              "  </svg>\n",
              "      </button>\n",
              "      \n",
              "  <style>\n",
              "    .colab-df-container {\n",
              "      display:flex;\n",
              "      flex-wrap:wrap;\n",
              "      gap: 12px;\n",
              "    }\n",
              "\n",
              "    .colab-df-convert {\n",
              "      background-color: #E8F0FE;\n",
              "      border: none;\n",
              "      border-radius: 50%;\n",
              "      cursor: pointer;\n",
              "      display: none;\n",
              "      fill: #1967D2;\n",
              "      height: 32px;\n",
              "      padding: 0 0 0 0;\n",
              "      width: 32px;\n",
              "    }\n",
              "\n",
              "    .colab-df-convert:hover {\n",
              "      background-color: #E2EBFA;\n",
              "      box-shadow: 0px 1px 2px rgba(60, 64, 67, 0.3), 0px 1px 3px 1px rgba(60, 64, 67, 0.15);\n",
              "      fill: #174EA6;\n",
              "    }\n",
              "\n",
              "    [theme=dark] .colab-df-convert {\n",
              "      background-color: #3B4455;\n",
              "      fill: #D2E3FC;\n",
              "    }\n",
              "\n",
              "    [theme=dark] .colab-df-convert:hover {\n",
              "      background-color: #434B5C;\n",
              "      box-shadow: 0px 1px 3px 1px rgba(0, 0, 0, 0.15);\n",
              "      filter: drop-shadow(0px 1px 2px rgba(0, 0, 0, 0.3));\n",
              "      fill: #FFFFFF;\n",
              "    }\n",
              "  </style>\n",
              "\n",
              "      <script>\n",
              "        const buttonEl =\n",
              "          document.querySelector('#df-06886e50-52a0-4b88-8365-d0583ff597d1 button.colab-df-convert');\n",
              "        buttonEl.style.display =\n",
              "          google.colab.kernel.accessAllowed ? 'block' : 'none';\n",
              "\n",
              "        async function convertToInteractive(key) {\n",
              "          const element = document.querySelector('#df-06886e50-52a0-4b88-8365-d0583ff597d1');\n",
              "          const dataTable =\n",
              "            await google.colab.kernel.invokeFunction('convertToInteractive',\n",
              "                                                     [key], {});\n",
              "          if (!dataTable) return;\n",
              "\n",
              "          const docLinkHtml = 'Like what you see? Visit the ' +\n",
              "            '<a target=\"_blank\" href=https://colab.research.google.com/notebooks/data_table.ipynb>data table notebook</a>'\n",
              "            + ' to learn more about interactive tables.';\n",
              "          element.innerHTML = '';\n",
              "          dataTable['output_type'] = 'display_data';\n",
              "          await google.colab.output.renderOutput(dataTable, element);\n",
              "          const docLink = document.createElement('div');\n",
              "          docLink.innerHTML = docLinkHtml;\n",
              "          element.appendChild(docLink);\n",
              "        }\n",
              "      </script>\n",
              "    </div>\n",
              "  </div>\n",
              "  "
            ],
            "text/plain": [
              "                review_id                 user_id             business_id  \\\n",
              "0  KU_O5udG6zpxOg-VcAEodg  mh_-eMZ6K5RLWhZyISBhwA  XQfwVwDr-v0ZS3_CbbE5Xw   \n",
              "1  BiTunyQ73aT9WBnpR9DZGw  OyoGAe7OKpv6SyGZT5g77Q  7ATYjTIgM3jUlt4UM3IypQ   \n",
              "2  saUsX_uimxRlCVr67Z4Jig  8g_iMtfSiwikVnbP2etR0A  YjUWPpI6HXG530lwP-fb2A   \n",
              "3  AqPFMleE6RsU23_auESxiA  _7bHUi9Uuf5__HHc_Q8guQ  kxX2SOes4o-D3ZQBkiMRfA   \n",
              "4  Sx8TMOWLNuJBWer-0pcmoA  bcjbaE6dDog4jkNY91ncLQ  e4Vwtrqf-wpJfwesgvdgxQ   \n",
              "\n",
              "   stars  useful  funny  cool  \\\n",
              "0    3.0     0.0    0.0   0.0   \n",
              "1    5.0     1.0    0.0   1.0   \n",
              "2    3.0     0.0    0.0   0.0   \n",
              "3    5.0     1.0    0.0   1.0   \n",
              "4    4.0     1.0    0.0   1.0   \n",
              "\n",
              "                                                text                 date  \n",
              "0  If you decide to eat here, just be aware it is...  2018-07-07 22:09:11  \n",
              "1  I've taken a lot of spin classes over the year...  2012-01-03 15:28:18  \n",
              "2  Family diner. Had the buffet. Eclectic assortm...  2014-02-05 20:30:30  \n",
              "3  Wow!  Yummy, different,  delicious.   Our favo...  2015-01-04 00:01:03  \n",
              "4  Cute interior and owner (?) gave us tour of up...  2017-01-14 20:54:15  "
            ]
          },
          "execution_count": 11,
          "metadata": {},
          "output_type": "execute_result"
        }
      ],
      "source": [
        "data_file_path = './yadr_chunks.csv'\n",
        "df = pd.read_csv(data_file_path)\n",
        "df.head()"
      ]
    },
    {
      "cell_type": "code",
      "execution_count": 12,
      "metadata": {
        "colab": {
          "base_uri": "https://localhost:8080/"
        },
        "id": "eUxVctM5M1RY",
        "outputId": "21e3c02f-d9fe-4823-fe99-7711d2381390"
      },
      "outputs": [
        {
          "name": "stdout",
          "output_type": "stream",
          "text": [
            "GPU is available\n"
          ]
        }
      ],
      "source": [
        "is_cuda = torch.cuda.is_available()\n",
        "\n",
        "# If we have a GPU available, we'll set our device to GPU. We'll use this device variable later in our code.\n",
        "if is_cuda:\n",
        "    device = torch.device(\"cuda\")\n",
        "    print(\"GPU is available\")\n",
        "else:\n",
        "    device = torch.device(\"cpu\")\n",
        "    print(\"GPU not available, CPU used\")"
      ]
    },
    {
      "cell_type": "code",
      "execution_count": 91,
      "metadata": {
        "id": "9pNgnxUsPnGu"
      },
      "outputs": [],
      "source": [
        "# Function to map stars to sentiment\n",
        "def map_sentiment(stars_received):\n",
        "    if stars_received <= 3:\n",
        "        return 0 #negative\n",
        "    else:\n",
        "        return 1 #positive"
      ]
    },
    {
      "cell_type": "code",
      "execution_count": 92,
      "metadata": {
        "colab": {
          "base_uri": "https://localhost:8080/"
        },
        "id": "X2JSPYB8PRvH",
        "outputId": "04538252-48f1-43f7-9c1e-7b78a437daae"
      },
      "outputs": [
        {
          "name": "stdout",
          "output_type": "stream",
          "text": [
            "Columns in the original dataset:\n",
            "\n",
            "Index(['review_id', 'user_id', 'business_id', 'stars', 'useful', 'funny',\n",
            "       'cool', 'text', 'date', 'sentiment'],\n",
            "      dtype='object')\n"
          ]
        }
      ],
      "source": [
        "print(\"Columns in the original dataset:\\n\")\n",
        "print(df.columns)\n",
        "# Mapping stars to sentiment into three categories\n",
        "df['sentiment'] = [ map_sentiment(x) for x in df['stars']]"
      ]
    },
    {
      "cell_type": "code",
      "execution_count": 93,
      "metadata": {
        "colab": {
          "base_uri": "https://localhost:8080/"
        },
        "id": "WhI0aJkUNAd7",
        "outputId": "fc66565b-814d-4072-8e2f-a3f2a4c94137"
      },
      "outputs": [
        {
          "name": "stdout",
          "output_type": "stream",
          "text": [
            "shape of train data is (5242711,)\n",
            "shape of test data is (1747571,)\n"
          ]
        }
      ],
      "source": [
        "X,y = df['text'].values,df['sentiment'].values\n",
        "x_train,x_test,y_train,y_test = train_test_split(X,y,stratify=y)\n",
        "print(f'shape of train data is {x_train.shape}')\n",
        "print(f'shape of test data is {x_test.shape}')"
      ]
    },
    {
      "cell_type": "code",
      "execution_count": 94,
      "metadata": {
        "colab": {
          "base_uri": "https://localhost:8080/",
          "height": 445
        },
        "id": "prh417G9P6c6",
        "outputId": "40d3795f-1205-45c6-fc53-e0ffd1694c64"
      },
      "outputs": [
        {
          "data": {
            "image/png": "[encoded data removed]",
            "text/plain": [
              "<Figure size 640x480 with 1 Axes>"
            ]
          },
          "metadata": {},
          "output_type": "display_data"
        }
      ],
      "source": [
        "dd = pd.Series(y_train).value_counts()\n",
        "sns.barplot(x=np.array(['0','1']),y=dd.values)\n",
        "plt.show()"
      ]
    },
    {
      "cell_type": "code",
      "execution_count": 96,
      "metadata": {
        "id": "0vLqxvThTNhI"
      },
      "outputs": [],
      "source": [
        "# Function to retrieve top few number of each category - to avoid the imbalance classes issue\n",
        "def get_top_data(top_data_df, top_n = 5000):\n",
        "    top_data_df_positive = top_data_df[top_data_df['sentiment'] == 1].head(top_n)\n",
        "    top_data_df_negative = top_data_df[top_data_df['sentiment'] == 0].head(top_n)\n",
        "  #  top_data_df_neutral = top_data_df[top_data_df['sentiment'] == 1].head(top_n)\n",
        "    top_data_df_small = pd.concat([top_data_df_positive, top_data_df_negative])\n",
        "    return top_data_df_small"
      ]
    },
    {
      "cell_type": "code",
      "execution_count": 97,
      "metadata": {
        "id": "BI_ymTEtTG5r"
      },
      "outputs": [],
      "source": [
        "# Function call to get the top 10000 from each sentiment\n",
        "top_data_df_small = get_top_data(df, top_n=42000)"
      ]
    },
    {
      "cell_type": "code",
      "execution_count": 157,
      "metadata": {
        "id": "jQx0xZN-RDL2"
      },
      "outputs": [],
      "source": [
        "def preprocess_string(s):\n",
        "    # Remove all non-word characters (everything except numbers and letters)\n",
        "    s = re.sub(r\"[^\\w\\s]\", '', s)\n",
        "    # Replace all runs of whitespaces with no space\n",
        "    s = re.sub(r\"\\s+\", '', s)\n",
        "    # replace digits with no space\n",
        "    s = re.sub(r\"\\d\", '', s)\n",
        "\n",
        "    return s\n",
        "\n",
        "def tockenize(x_train,y_train,x_test, y_test,x_val,y_val):\n",
        "    word_list = []\n",
        "\n",
        "    stop_words = set(stopwords.words('english')) \n",
        "    for sent in x_train:\n",
        "        for word in sent.lower().split():\n",
        "            word = preprocess_string(word)\n",
        "            if word not in stop_words and word != '':\n",
        "                word_list.append(word)\n",
        "\n",
        "    corpus = Counter(word_list)\n",
        "    # sorting on the basis of most common words\n",
        "    corpus_ = sorted(corpus,key=corpus.get,reverse=True)#[:1000]\n",
        "    # creating a dict\n",
        "    onehot_dict = {w:i+1 for i,w in enumerate(corpus_)}\n",
        "    \n",
        "    # tockenize\n",
        "    final_list_train, final_list_test, final_list_val= [],[],[]\n",
        "    for sent in x_train:\n",
        "            final_list_train.append([onehot_dict[preprocess_string(word)] for word in sent.lower().split() \n",
        "                                     if preprocess_string(word) in onehot_dict.keys()])\n",
        "    for sent in x_test:\n",
        "            final_list_test.append([onehot_dict[preprocess_string(word)] for word in sent.lower().split() \n",
        "                                    if preprocess_string(word) in onehot_dict.keys()])\n",
        "    for sent in x_val:\n",
        "            final_list_val.append([onehot_dict[preprocess_string(word)] for word in sent.lower().split() \n",
        "                                    if preprocess_string(word) in onehot_dict.keys()])\n",
        "\n",
        "    return np.array(final_list_train), np.array(y_train),np.array(final_list_test), np.array(y_test), np.array(final_list_val), np.array(y_val),onehot_dict"
      ]
    },
    {
      "cell_type": "code",
      "execution_count": 158,
      "metadata": {
        "colab": {
          "base_uri": "https://localhost:8080/"
        },
        "id": "5qRQUe97UN1K",
        "outputId": "72852d51-eeab-43f7-b33d-d07507b1bae5"
      },
      "outputs": [
        {
          "name": "stdout",
          "output_type": "stream",
          "text": [
            "shape of val data is (16800,)\n",
            "shape of train data is (50400,)\n",
            "shape of test data is (16800,)\n"
          ]
        }
      ],
      "source": [
        "X,y = top_data_df_small['text'].values,top_data_df_small['sentiment'].values\n",
        "x_train, x_test, y_train, y_test = train_test_split(top_data_df_small['text'], \n",
        "                                                        top_data_df_small['sentiment'], \n",
        "                                                        shuffle=True,\n",
        "                                                        test_size=0.2, \n",
        "                                                        random_state=35)\n",
        "\n",
        "x_train, x_val, y_train, y_val = train_test_split(x_train, y_train, test_size=0.25, random_state=35)\n",
        "print(f'shape of val data is {x_val.shape}')\n",
        "print(f'shape of train data is {x_train.shape}')\n",
        "print(f'shape of test data is {x_test.shape}')"
      ]
    },
    {
      "cell_type": "code",
      "execution_count": 159,
      "metadata": {
        "colab": {
          "base_uri": "https://localhost:8080/"
        },
        "id": "4C-vbhypRFuY",
        "outputId": "6ee8f9d8-edb6-4032-c9e6-e93a99d33a51"
      },
      "outputs": [
        {
          "name": "stderr",
          "output_type": "stream",
          "text": [
            "<ipython-input-157-07b7e91d3c0d>:39: VisibleDeprecationWarning: Creating an ndarray from ragged nested sequences (which is a list-or-tuple of lists-or-tuples-or ndarrays with different lengths or shapes) is deprecated. If you meant to do this, you must specify 'dtype=object' when creating the ndarray.\n",
            "  return np.array(final_list_train), np.array(y_train),np.array(final_list_test), np.array(y_test), np.array(final_list_val), np.array(y_val),onehot_dict\n"
          ]
        }
      ],
      "source": [
        "x_train,y_train,x_test,y_test,x_val, y_val, vocab = tockenize(x_train,y_train,x_test,y_test, x_val, y_val)"
      ]
    },
    {
      "cell_type": "code",
      "execution_count": 160,
      "metadata": {
        "colab": {
          "base_uri": "https://localhost:8080/"
        },
        "id": "EigEHNrsVQbR",
        "outputId": "6d93c401-61a7-4499-feb5-74490e9f9655"
      },
      "outputs": [
        {
          "name": "stdout",
          "output_type": "stream",
          "text": [
            "[list([243, 32, 607, 258, 121, 869, 181, 35, 5, 81, 71, 889, 9, 101, 207, 157, 1852, 14, 31101, 199, 540, 5958, 308, 1, 617, 16, 1704, 319, 29, 75, 7907, 38, 568, 484, 4020, 4353, 80, 1628, 161, 10, 31, 49, 11])\n",
            " list([28, 854, 3, 75, 2766, 23931, 2378, 34, 17726, 34, 818, 17, 712])\n",
            " list([304, 139, 370, 1612, 158, 452, 113, 644, 341, 8380, 1935, 499, 50, 8, 2340, 917, 20170, 6, 23932, 41])\n",
            " list([176, 413, 96, 1141, 1231, 222, 4398, 27, 30, 2745, 275, 47, 38, 31102, 315, 4398, 195, 1, 23, 20, 76, 175, 152, 20, 100, 329, 78, 172, 183, 965, 11996, 31103, 196, 31, 12, 11, 2603, 491, 252, 143, 20, 1769, 67, 106, 2481, 244, 55, 9, 663, 190, 444, 332, 20, 1673, 1791, 27])\n",
            " list([79, 270, 39, 85, 3, 42, 635, 341, 413, 1967, 25, 313, 130, 36, 5, 140, 6, 2911, 2417, 189, 1802, 113, 177, 8, 113, 17727, 40, 77, 38, 43, 105, 177, 47, 17, 49, 655, 18, 4182, 271, 48, 115, 717, 1453, 114, 28, 298, 450, 89, 114, 115, 164, 44, 77, 2418, 17728, 11])\n",
            " list([13, 403, 221, 5591, 12699, 570, 2671, 115, 1470, 126, 5591, 272, 111, 1302, 6197, 2797, 13591, 12700, 774, 7311, 274, 546])\n",
            " list([10323, 216, 235, 1529, 2419, 1425, 934, 1613, 6, 1056, 816, 2970, 2033, 1738, 166, 516, 5959, 2, 5514, 7504, 449])\n",
            " list([235, 1039, 9245, 11997, 4221, 582, 386, 95, 488, 4056, 108, 4, 142, 235, 602, 407, 3447, 61, 2, 103, 286, 70, 143, 13, 245, 4441, 130, 25, 2239, 432, 1040, 130, 103, 18, 15933, 831, 31104, 3362, 216, 1, 315, 120, 45, 167, 291, 2193, 320, 41, 207, 167, 1, 26, 2255, 473, 721, 602, 77, 894, 265, 33, 227, 68, 15933, 222, 33, 8381, 118, 147, 2473, 87, 45, 461, 395, 291, 22, 24, 86, 22, 1560, 11, 338, 1429])\n",
            " list([911, 391, 193, 50, 95, 1, 807, 5592, 8916, 5515, 855, 406, 137, 3544, 502, 292, 611, 406, 80, 2474, 851, 13, 23933, 8382, 80, 59, 41, 86, 135, 11370, 2728, 187, 2593, 1443, 406, 15, 398, 855, 2232, 2111, 45, 3, 139, 2926, 371, 929, 449, 10, 12, 7])\n",
            " list([348, 114, 1234, 2256, 223, 5, 1197, 12701, 134, 1458, 653, 7312, 50, 83, 31105, 5152, 348, 249, 326, 5516])]\n",
            "[0 1 1 0 0 1 0 1 1 0]\n",
            "[list([371, 30, 1182, 8321, 16775, 5110, 4715, 563, 1552, 8939, 33, 586, 4082, 764])\n",
            " list([35, 1669, 3, 1565, 1011, 323, 72, 3106, 287, 272, 776, 36, 605, 3, 77, 186, 507, 1408, 16, 417, 63, 18, 25, 277, 89, 2, 35, 402, 222, 651, 141, 512, 402, 253, 175, 45, 77, 155, 1422, 4075, 2829, 1788, 867, 872, 3404, 740, 9417, 96, 754, 208, 2268, 33, 5, 199, 1347, 3, 303, 432, 1011])\n",
            " list([26, 385, 60, 1312, 1, 145, 153, 1387, 1148, 5, 321, 474, 4420, 6448, 53, 14, 140, 2326, 952, 14, 1387, 2483, 6, 51, 56, 49, 11, 90, 7, 24, 261])\n",
            " list([357, 4265, 124, 169, 33, 144, 8, 234, 4915, 33, 45796, 1185, 162, 33, 1005, 491, 1464, 504, 324, 498, 6, 1207, 3160, 1375, 6, 1, 4216, 5, 324])\n",
            " list([26, 276, 127, 853, 542, 122, 165, 36, 381, 10796, 776, 853, 318, 5634, 853, 5941, 344, 44, 3360, 553, 176, 11, 90, 60, 82, 3854, 3404])\n",
            " list([2122, 924, 377, 8236, 5509, 37, 12, 57, 16303, 42, 2122, 377, 2334, 144, 3727, 1467, 47, 181, 11910, 86, 17, 357, 296, 6, 897, 69, 2548, 377, 924, 377, 165, 421, 6552, 100, 18, 6791, 306, 2733, 6771, 356, 1848, 138, 223, 159, 18, 4891, 2649, 163, 8428, 377, 15, 2733, 694, 583, 3, 3336, 24, 2646, 897, 31, 59, 69, 2122, 924, 377, 722])\n",
            " list([29, 76, 1897, 16769, 530, 3, 4, 1826, 44, 291, 7, 1265, 1323, 206, 1933, 2762, 72, 619, 2336, 47, 454, 594, 1316, 18, 269, 10410, 8479, 2196, 1414, 297, 759, 375, 1683, 370, 573, 759, 375, 33, 297, 2996, 226, 4963, 1151, 269, 114, 284, 90, 163, 651, 1041, 45, 15, 1685, 93, 3, 254, 656, 60, 353, 4872, 2762, 20384, 60, 2689, 664, 778, 117, 145, 381])\n",
            " list([645, 5215, 317, 815, 855, 24, 112, 2609, 446, 175, 2316, 4, 89, 557, 27, 145, 2477, 44, 75, 11, 52, 311, 545, 218, 2178, 15361])\n",
            " list([407, 125, 4, 237, 18, 652, 34, 302, 1704, 1257, 2071, 17, 59, 7, 299, 61, 277, 87, 234, 835, 652, 34, 867, 652, 3319, 199, 2418, 11320, 124, 2071, 1704, 137, 1707, 1257, 328, 100])\n",
            " list([17895, 224, 3938, 332, 14, 663, 204, 2944, 1438, 521, 267, 331, 320, 59, 2007, 494, 11, 19, 570, 100, 1321, 330])]\n",
            "[0 1 1 0 1 0 1 1 0 0]\n",
            "[list([32, 390, 7481, 6745, 316, 624, 5, 717, 292, 14190, 330, 2756, 1, 101, 717, 240, 245, 631, 38, 8, 30, 919, 15, 45, 881, 288, 84, 1389, 89, 549, 927])\n",
            " list([1, 653, 45, 117, 220, 3334, 15, 48, 2331, 30, 1348, 21, 323, 4233, 52, 434, 11450, 9554, 169, 975, 487, 273, 1838, 15, 308, 482, 275, 1936, 35, 482, 482, 18848, 4367, 1846, 248, 272, 95, 186, 408, 60, 6737, 47, 38, 15753, 86, 1311, 22, 85, 84, 42])\n",
            " list([1, 5, 13, 2, 820, 376, 1732, 286, 3736, 605, 837, 1655, 42, 457, 979, 139])\n",
            " list([41, 7914, 47, 38, 87, 30, 148, 337, 131, 47, 617, 44, 7914, 408, 35, 264, 2321, 109, 217, 9, 248, 749, 1549, 42, 8, 284, 387, 295, 186, 83, 896, 202, 1549, 2785, 18197, 32, 11, 26, 194, 595, 491, 23, 395, 2640, 332, 74, 630, 4348, 960, 1175, 2584, 5242, 330, 6247, 266, 32, 478, 13253, 538, 1085, 21540, 411, 1532, 14, 1256, 11, 3520, 14, 1256, 216, 52, 1103, 68, 333, 152, 48, 422, 247, 771, 24, 272, 2929, 118, 411, 48, 79, 30, 152, 67, 10, 152, 118, 12, 11, 118, 10879, 2654, 2527, 1512, 256, 11, 870, 162, 1099, 123, 3170, 5307, 7914, 927, 906, 1049])\n",
            " list([19, 1292, 139, 5, 875, 1955, 405, 2590, 2318, 1038, 4463, 242, 6989, 169, 156, 620, 2057, 1144, 3035, 364, 2385, 10, 51, 12, 11])\n",
            " list([269, 581, 413, 171, 13051, 688, 2457, 364, 208, 324, 733, 28, 29, 75, 2, 135, 12, 5896, 96, 9143, 8, 943, 364, 107, 2461, 48, 24, 86, 52589, 3, 352, 2634, 976, 13, 220, 612, 574, 83, 10, 2, 3, 12, 8038, 445, 225, 6079, 142, 1758, 1151, 374, 100, 5, 962, 21, 2457, 364, 19, 773, 7373, 264, 264, 30, 94, 2457, 364, 425, 47, 1004, 364, 837, 303, 13, 4103, 943, 96, 303, 6, 58, 367, 24, 86, 6, 84, 906, 26, 1759, 2457, 364, 1279, 943, 11, 411, 1572, 264, 264, 84, 58, 5367, 7373, 68, 30, 806, 364, 14, 234, 1719, 71, 1732, 2931, 528, 1099, 386, 410, 21, 1950, 55, 1052, 5042, 364, 57, 8066, 12, 337, 186, 7, 1587, 313, 61, 108, 39, 171, 211, 286, 674, 411, 462, 24, 86, 55, 27, 3473, 272, 9381, 688, 2457, 364, 425, 11, 411, 108, 1307, 123, 78, 364, 505, 121, 364, 46, 121, 5])\n",
            " list([2451, 3765, 4592, 41, 87, 208, 3, 315, 1273, 1259, 95, 1190, 1139, 7365, 5987, 1293, 711, 236, 299, 1120, 348, 3561, 26, 21, 456, 233, 64, 3201, 187, 775, 5604, 961, 4154, 2703, 348, 80, 4961, 199, 2994, 87, 477, 1902, 230, 2733, 1556, 9, 166, 190, 17146, 151, 399, 918, 461, 1259, 302, 492, 208, 13, 245, 520, 7145, 104, 487, 29, 31, 3567, 51, 12, 11, 492, 944, 16, 46, 180, 389, 8, 11315, 1558, 375, 1168, 622, 233, 64, 2207, 348, 1019, 1902, 652, 504, 844, 477, 16764, 1008, 7454, 150, 375, 375, 238, 232, 455, 395, 874, 375, 16, 2692, 7003, 886, 426, 7003, 5599, 297, 7003, 1074, 3183, 1913, 9668, 4592, 375, 82, 2994, 19218, 146, 1072, 1913, 53, 1302, 516, 86, 5, 47, 2, 20, 511, 198, 66, 346, 219, 11, 69, 1])\n",
            " list([321, 1745, 151, 360, 2342, 2290, 17, 73, 1100, 1787, 3, 4, 1790, 2599, 36, 1060])\n",
            " list([1, 22, 835, 2418, 1161, 2071, 395, 4084, 12962, 200, 6, 5429, 7606, 15, 875, 6311, 137, 167, 1881, 174, 1161, 347, 232, 6, 565, 3359, 5, 15, 948, 657, 14, 91, 129, 2390, 1799, 833, 338, 101, 18])\n",
            " list([769, 40, 704, 524, 1286, 230, 97, 139, 108, 642, 3506, 45, 46, 5254, 63, 268, 473, 185, 3043, 185, 686, 2110, 844, 631, 46, 302, 46, 7958, 808, 1418, 740, 1418, 740, 505, 92, 586, 808, 1080, 3714, 347, 175, 135, 80, 1482, 147, 372, 291, 85, 1, 218, 121, 131, 5, 28, 7198, 89, 4293, 381, 476, 5, 531, 121, 1056, 161])]\n",
            "[1 1 1 0 0 0 1 1 0 1]\n",
            "Length of vocabulary is 66888\n"
          ]
        }
      ],
      "source": [
        "print(x_train[0:10])\n",
        "print(y_train[0:10])\n",
        "print(x_test[0:10])\n",
        "print(y_test[0:10])\n",
        "print(x_val[0:10])\n",
        "print(y_val[0:10])\n",
        "print(f'Length of vocabulary is {len(vocab)}')\n"
      ]
    },
    {
      "cell_type": "code",
      "execution_count": 161,
      "metadata": {
        "colab": {
          "base_uri": "https://localhost:8080/",
          "height": 591
        },
        "id": "Ej6MWhH0YxGk",
        "outputId": "bc034965-3235-49dd-8762-90df7b09d724"
      },
      "outputs": [
        {
          "data": {
            "image/png": "[encoded data removed]",
            "text/plain": [
              "<Figure size 640x480 with 1 Axes>"
            ]
          },
          "metadata": {},
          "output_type": "display_data"
        },
        {
          "data": {
            "text/plain": [
              "count    50400.000000\n",
              "mean        54.342917\n",
              "std         48.404438\n",
              "min          1.000000\n",
              "25%         23.000000\n",
              "50%         40.000000\n",
              "75%         69.000000\n",
              "max        492.000000\n",
              "dtype: float64"
            ]
          },
          "execution_count": 161,
          "metadata": {},
          "output_type": "execute_result"
        }
      ],
      "source": [
        "rev_len = [len(i) for i in x_train]\n",
        "pd.Series(rev_len).hist()\n",
        "plt.show()\n",
        "pd.Series(rev_len).describe()"
      ]
    },
    {
      "cell_type": "code",
      "execution_count": 162,
      "metadata": {
        "id": "aVGILo7NY3q7"
      },
      "outputs": [],
      "source": [
        "def padding_(sentences, seq_len):\n",
        "    features = np.zeros((len(sentences), seq_len),dtype=int)\n",
        "    for ii, review in enumerate(sentences):\n",
        "        if len(review) != 0:\n",
        "            features[ii, -len(review):] = np.array(review)[:seq_len]\n",
        "    return features\n"
      ]
    },
    {
      "cell_type": "code",
      "execution_count": 163,
      "metadata": {
        "id": "eoNa8rt1ZZCt"
      },
      "outputs": [],
      "source": [
        "#we have very less number of reviews with length > 400.\n",
        "#So we will consideronly those below it.\n",
        "x_train_pad = padding_(x_train,400)\n",
        "x_val_pad = padding_(x_val, 400)\n",
        "x_test_pad = padding_(x_test,400)"
      ]
    },
    {
      "cell_type": "code",
      "execution_count": 164,
      "metadata": {
        "id": "PFHXS03_qY_U"
      },
      "outputs": [],
      "source": [
        "# create Tensor datasets\n",
        "train_data = TensorDataset(torch.from_numpy(x_train_pad), torch.from_numpy(y_train))\n",
        "valid_data = TensorDataset(torch.from_numpy(x_val_pad), torch.from_numpy(y_val))\n",
        "test_data = TensorDataset(torch.from_numpy(x_test_pad), torch.from_numpy(y_test))\n",
        "# dataloaders\n",
        "batch_size = 50\n",
        "# make sure to SHUFFLE your data\n",
        "train_loader = DataLoader(train_data, shuffle=True, batch_size=batch_size)\n",
        "valid_loader = DataLoader(valid_data, shuffle=True, batch_size=batch_size)\n",
        "test_loader = DataLoader(test_data, shuffle=True, batch_size=batch_size)"
      ]
    },
    {
      "cell_type": "code",
      "execution_count": 165,
      "metadata": {
        "colab": {
          "base_uri": "https://localhost:8080/"
        },
        "id": "0wsfMIW4ZjMt",
        "outputId": "473c31c3-a9fe-4e2f-dac1-adf1200940dc"
      },
      "outputs": [
        {
          "name": "stdout",
          "output_type": "stream",
          "text": [
            "Sample input size:  torch.Size([50, 400])\n",
            "Sample input: \n",
            " tensor([[    0,     0,     0,  ...,  2353,   148,   105],\n",
            "        [    0,     0,     0,  ...,    93,   274,   135],\n",
            "        [  973,    13,    44,  ...,   356, 26824,    73],\n",
            "        ...,\n",
            "        [    0,     0,     0,  ...,  4511,    41,  2362],\n",
            "        [    0,     0,     0,  ...,    33,    38,  2250],\n",
            "        [    0,     0,     0,  ...,    98,   183,  2418]])\n",
            "Sample input: \n",
            " tensor([0, 1, 0, 1, 0, 1, 1, 0, 0, 1, 1, 0, 1, 0, 1, 0, 0, 1, 1, 0, 1, 1, 0, 0,\n",
            "        0, 0, 0, 0, 0, 0, 1, 0, 1, 0, 1, 1, 1, 1, 0, 1, 0, 1, 1, 1, 1, 1, 0, 1,\n",
            "        0, 1])\n"
          ]
        }
      ],
      "source": [
        "# obtain one batch of training data\n",
        "dataiter = iter(train_loader)\n",
        "sample_x, sample_y = next(dataiter)\n",
        "\n",
        "print('Sample input size: ', sample_x.size()) # batch_size, seq_length\n",
        "print('Sample input: \\n', sample_x)\n",
        "print('Sample input: \\n', sample_y)"
      ]
    },
    {
      "cell_type": "code",
      "execution_count": 166,
      "metadata": {
        "id": "BoBLzks7aJFN"
      },
      "outputs": [],
      "source": [
        "class SentimentRNN(nn.Module):\n",
        "    def __init__(self,no_layers,vocab_size,hidden_dim,embedding_dim,drop_prob=0.5):\n",
        "        super(SentimentRNN,self).__init__()\n",
        " \n",
        "        self.output_dim = output_dim\n",
        "        self.hidden_dim = hidden_dim\n",
        " \n",
        "        self.no_layers = no_layers\n",
        "        self.vocab_size = vocab_size\n",
        "    \n",
        "        # embedding and LSTM layers\n",
        "        self.embedding = nn.Embedding(vocab_size, embedding_dim)\n",
        "        \n",
        "        #lstm\n",
        "        self.lstm = nn.LSTM(input_size=embedding_dim,hidden_size=self.hidden_dim,\n",
        "                           num_layers=no_layers, batch_first=True)\n",
        "        \n",
        "        \n",
        "        # dropout layer\n",
        "        self.dropout = nn.Dropout(0.3)\n",
        "    \n",
        "        # linear and sigmoid layer\n",
        "        self.fc = nn.Linear(self.hidden_dim, output_dim)\n",
        "        self.sig = nn.Sigmoid()\n",
        "        \n",
        "    def forward(self,x,hidden):\n",
        "        batch_size = x.size(0)\n",
        "        # embeddings and lstm_out\n",
        "        embeds = self.embedding(x)  # shape: B x S x Feature   since batch = True\n",
        "        #print(embeds.shape)  #[50, 400, 1000]\n",
        "        lstm_out, hidden = self.lstm(embeds, hidden)\n",
        "        \n",
        "        lstm_out = lstm_out.contiguous().view(-1, self.hidden_dim) \n",
        "        \n",
        "        # dropout and fully connected layer\n",
        "        out = self.dropout(lstm_out)\n",
        "        out = self.fc(out)\n",
        "        \n",
        "        # sigmoid function\n",
        "        sig_out = self.sig(out)\n",
        "        \n",
        "        # reshape to be batch_size first\n",
        "        sig_out = sig_out.view(batch_size, -1)\n",
        "\n",
        "        sig_out = sig_out[:, -1] # get last batch of labels\n",
        "        \n",
        "        # return last sigmoid output and hidden state\n",
        "        return sig_out, hidden\n",
        "        \n",
        "        \n",
        "        \n",
        "    def init_hidden(self, batch_size):\n",
        "        ''' Initializes hidden state '''\n",
        "        # Create two new tensors with sizes n_layers x batch_size x hidden_dim,\n",
        "        # initialized to zero, for hidden state and cell state of LSTM\n",
        "        h0 = torch.zeros((self.no_layers,batch_size,self.hidden_dim)).to(device)\n",
        "        c0 = torch.zeros((self.no_layers,batch_size,self.hidden_dim)).to(device)\n",
        "        hidden = (h0,c0)\n",
        "        return hidden\n"
      ]
    },
    {
      "cell_type": "code",
      "execution_count": 167,
      "metadata": {
        "colab": {
          "base_uri": "https://localhost:8080/"
        },
        "id": "y9Gjo4zoaZ-U",
        "outputId": "2199c5d3-584a-4ba7-f6fc-5fa411f37f32"
      },
      "outputs": [
        {
          "name": "stdout",
          "output_type": "stream",
          "text": [
            "SentimentRNN(\n",
            "  (embedding): Embedding(66889, 500)\n",
            "  (lstm): LSTM(500, 256, num_layers=2, batch_first=True)\n",
            "  (dropout): Dropout(p=0.3, inplace=False)\n",
            "  (fc): Linear(in_features=256, out_features=1, bias=True)\n",
            "  (sig): Sigmoid()\n",
            ")\n"
          ]
        }
      ],
      "source": [
        "no_layers = 2\n",
        "vocab_size = len(vocab) + 1 #extra 1 for padding\n",
        "embedding_dim = 500\n",
        "output_dim = 1\n",
        "hidden_dim = 256\n",
        "model = SentimentRNN(no_layers,vocab_size,hidden_dim,embedding_dim,drop_prob=0.5)\n",
        "\n",
        "#moving to gpu\n",
        "model.to(device)\n",
        "\n",
        "print(model)"
      ]
    },
    {
      "cell_type": "code",
      "execution_count": 168,
      "metadata": {
        "id": "Ix9-lab8atJV"
      },
      "outputs": [],
      "source": [
        "# loss and optimization functions\n",
        "lr=0.001\n",
        "\n",
        "criterion = nn.BCELoss()\n",
        "\n",
        "optimizer = torch.optim.Adam(model.parameters(), lr=lr)\n",
        "\n",
        "# function to predict accuracy\n",
        "def acc(pred,label):\n",
        "    pred = torch.round(pred.squeeze())\n",
        "    return torch.sum(pred == label.squeeze()).item()"
      ]
    },
    {
      "cell_type": "code",
      "execution_count": 169,
      "metadata": {
        "colab": {
          "base_uri": "https://localhost:8080/"
        },
        "id": "8_1bjUgDawh7",
        "outputId": "6481862d-f44c-4840-a7c5-2d74d052cf7c"
      },
      "outputs": [
        {
          "name": "stdout",
          "output_type": "stream",
          "text": [
            "Epoch 1 Time Taken 90.38582968711853\n",
            "train_loss : 0.398392503866778 val_loss : 0.3149788530898236\n",
            "train_accuracy : 82.43055555555556 val_accuracy : 86.60714285714286\n",
            "Validation loss decreased (inf --> 0.314979).  Saving model ...\n",
            "==================================================\n",
            "Epoch 2 Time Taken 93.81692361831665\n",
            "train_loss : 0.2535501132305298 val_loss : 0.289605918916918\n",
            "train_accuracy : 89.57142857142857 val_accuracy : 88.01190476190476\n",
            "Validation loss decreased (0.314979 --> 0.289606).  Saving model ...\n",
            "==================================================\n",
            "Epoch 3 Time Taken 95.82317352294922\n",
            "train_loss : 0.16747978178503375 val_loss : 0.3246419028201628\n",
            "train_accuracy : 93.40277777777779 val_accuracy : 87.36904761904762\n",
            "==================================================\n",
            "Epoch 4 Time Taken 96.50975370407104\n",
            "train_loss : 0.09050265499686319 val_loss : 0.398852431991448\n",
            "train_accuracy : 96.60317460317461 val_accuracy : 86.55357142857143\n",
            "==================================================\n",
            "Epoch 5 Time Taken 96.84562110900879\n",
            "train_loss : 0.04357699928865288 val_loss : 0.5320287770868856\n",
            "train_accuracy : 98.45833333333334 val_accuracy : 86.50595238095238\n",
            "==================================================\n"
          ]
        }
      ],
      "source": [
        "clip = 5\n",
        "epochs = 5 \n",
        "valid_loss_min = np.Inf\n",
        "# train for some number of epochs\n",
        "epoch_tr_loss,epoch_vl_loss = [],[]\n",
        "epoch_tr_acc,epoch_vl_acc = [],[]\n",
        "\n",
        "for epoch in range(epochs):\n",
        "    start_time = time.time()\n",
        "    train_losses = []\n",
        "    train_acc = 0.0\n",
        "    model.train()\n",
        "    # initialize hidden state \n",
        "    h = model.init_hidden(batch_size)\n",
        "    for inputs, labels in train_loader:\n",
        "        \n",
        "        inputs, labels = inputs.to(device), labels.to(device)   \n",
        "        # Creating new variables for the hidden state, otherwise\n",
        "        # we'd backprop through the entire training history\n",
        "        h = tuple([each.data for each in h])\n",
        "        \n",
        "        model.zero_grad()\n",
        "        output,h = model(inputs,h)\n",
        "        \n",
        "        # calculate the loss and perform backprop\n",
        "        loss = criterion(output.squeeze(), labels.float())\n",
        "        loss.backward()\n",
        "        train_losses.append(loss.item())\n",
        "        # calculating accuracy\n",
        "        accuracy = acc(output,labels)\n",
        "        train_acc += accuracy\n",
        "        #`clip_grad_norm` helps prevent the exploding gradient problem in RNNs / LSTMs.\n",
        "        nn.utils.clip_grad_norm_(model.parameters(), clip)\n",
        "        optimizer.step()\n",
        "        \n",
        "    val_h = model.init_hidden(batch_size)\n",
        "    val_losses = []\n",
        "    val_acc = 0.0\n",
        "    model.eval()\n",
        "    for inputs, labels in valid_loader:\n",
        "            val_h = tuple([each.data for each in val_h])\n",
        "\n",
        "            inputs, labels = inputs.to(device), labels.to(device)\n",
        "\n",
        "            output, val_h = model(inputs, val_h)\n",
        "            val_loss = criterion(output.squeeze(), labels.float())\n",
        "\n",
        "            val_losses.append(val_loss.item())\n",
        "            \n",
        "            accuracy = acc(output,labels)\n",
        "            val_acc += accuracy\n",
        "            \n",
        "    epoch_train_loss = np.mean(train_losses)\n",
        "    epoch_val_loss = np.mean(val_losses)\n",
        "    epoch_train_acc = train_acc/len(train_loader.dataset)\n",
        "    epoch_val_acc = val_acc/len(valid_loader.dataset)\n",
        "    epoch_tr_loss.append(epoch_train_loss)\n",
        "    epoch_vl_loss.append(epoch_val_loss)\n",
        "    epoch_tr_acc.append(epoch_train_acc)\n",
        "    epoch_vl_acc.append(epoch_val_acc)\n",
        "    print(f'Epoch {epoch+1} Time Taken {time.time() - start_time}') \n",
        "    print(f'train_loss : {epoch_train_loss} val_loss : {epoch_val_loss}')\n",
        "    print(f'train_accuracy : {epoch_train_acc*100} val_accuracy : {epoch_val_acc*100}')\n",
        "    if epoch_val_loss <= valid_loss_min:\n",
        "        torch.save(model.state_dict(), './state_dict.pt')\n",
        "        print('Validation loss decreased ({:.6f} --> {:.6f}).  Saving model ...'.format(valid_loss_min,epoch_val_loss))\n",
        "        valid_loss_min = epoch_val_loss\n",
        "    print(25*'==')"
      ]
    },
    {
      "cell_type": "code",
      "execution_count": 170,
      "metadata": {
        "colab": {
          "base_uri": "https://localhost:8080/",
          "height": 375
        },
        "id": "mndNhivycSaW",
        "outputId": "3e394502-2d15-4f0a-f80a-a49d5ef7c346"
      },
      "outputs": [
        {
          "data": {
            "image/png": "[encoded data removed]",
            "text/plain": [
              "<Figure size 2000x600 with 2 Axes>"
            ]
          },
          "metadata": {},
          "output_type": "display_data"
        }
      ],
      "source": [
        "fig = plt.figure(figsize = (20, 6))\n",
        "plt.subplot(1, 2, 1)\n",
        "plt.plot(epoch_tr_acc, label='Train Acc')\n",
        "plt.plot(epoch_vl_acc, label='Validation Acc')\n",
        "plt.title(\"Accuracy\")\n",
        "plt.legend()\n",
        "plt.grid()\n",
        "    \n",
        "plt.subplot(1, 2, 2)\n",
        "plt.plot(epoch_tr_loss, label='Train loss')\n",
        "plt.plot(epoch_vl_loss, label='Validation loss')\n",
        "plt.title(\"Loss\")\n",
        "plt.legend()\n",
        "plt.grid()\n",
        "\n",
        "plt.show()"
      ]
    },
    {
      "cell_type": "code",
      "execution_count": 174,
      "metadata": {
        "colab": {
          "base_uri": "https://localhost:8080/"
        },
        "id": "UBwcEmp9o8W1",
        "outputId": "71e63c11-c24f-4596-9f0f-8723f2c6a167"
      },
      "outputs": [
        {
          "name": "stdout",
          "output_type": "stream",
          "text": [
            "Test loss: 0.536\n",
            "Test accuracy: 0.866\n"
          ]
        }
      ],
      "source": [
        "# Get test data loss and accuracy\n",
        "\n",
        "test_losses = [] # track loss\n",
        "num_correct = 0\n",
        "\n",
        "# init hidden state\n",
        "h = model.init_hidden(batch_size)\n",
        "\n",
        "model.eval()\n",
        "# iterate over test data\n",
        "for inputs, labels in test_loader:\n",
        "\n",
        "    # Creating new variables for the hidden state, otherwise\n",
        "    # we'd backprop through the entire training history\n",
        "    h = tuple([each.data for each in h])\n",
        "\n",
        "    \n",
        "    inputs, labels = inputs.to(device), labels.to(device)\n",
        "    \n",
        "    # get predicted outputs\n",
        "    output, h = model(inputs, h)\n",
        "    \n",
        "    # calculate loss\n",
        "    test_loss = criterion(output.squeeze(), labels.float())\n",
        "    test_losses.append(test_loss.item())\n",
        "    \n",
        "    # convert output probabilities to predicted class (0 or 1)\n",
        "    pred = torch.round(output.squeeze())  # rounds to the nearest integer\n",
        "    \n",
        "    # compare predictions to true label\n",
        "    correct_tensor = pred.eq(labels.float().view_as(pred))\n",
        "    correct = np.squeeze(correct_tensor.cpu().numpy()) #if not train_on_gpu else np.squeeze(correct_tensor.cpu().numpy())\n",
        "    num_correct += np.sum(correct)\n",
        "\n",
        "\n",
        "# -- stats! -- ##\n",
        "# avg test loss\n",
        "print(\"Test loss: {:.3f}\".format(np.mean(test_losses)))\n",
        "\n",
        "# accuracy over all test data\n",
        "test_acc = num_correct/len(test_loader.dataset)\n",
        "print(\"Test accuracy: {:.3f}\".format(test_acc))"
      ]
    },
    {
      "cell_type": "code",
      "execution_count": 175,
      "metadata": {
        "id": "0lt5C3YxoC56"
      },
      "outputs": [],
      "source": [
        "def predict_text(text):\n",
        "        word_seq = np.array([vocab[preprocess_string(word)] for word in text.split() \n",
        "                         if preprocess_string(word) in vocab.keys()])\n",
        "        word_seq = np.expand_dims(word_seq,axis=0)\n",
        "        pad =  torch.from_numpy(padding_(word_seq,500))\n",
        "        inputs = pad.to(device)\n",
        "        batch_size = 1\n",
        "        h = model.init_hidden(batch_size)\n",
        "        h = tuple([each.data for each in h])\n",
        "        output, h = model(inputs, h)\n",
        "        return(output.item())"
      ]
    },
    {
      "cell_type": "code",
      "execution_count": 177,
      "metadata": {
        "colab": {
          "base_uri": "https://localhost:8080/"
        },
        "id": "URmb5NidoNqq",
        "outputId": "63e44fa8-3de8-42fa-e441-3441f81accd4"
      },
      "outputs": [
        {
          "name": "stdout",
          "output_type": "stream",
          "text": [
            "I've worked with A Classic on several parties now and have to say, despite not liking the prices of table, chair, etc. rentals (their prices are pretty standard), I do appreciate the professionalism and organization of this business. I love knowing that I can pull up to the bay and fill/unload my car within 5-10 minutes and be on the road again. *Expect to pay $1+ per chair rental - they offer around 9 varieties.  You'll also find everything from table decor to tablecloths and everything in between.\n",
            "======================================================================\n",
            "Actual sentiment is  : 1\n",
            "======================================================================\n",
            "Predicted sentiment is positive with a probability of 0.9629965424537659\n"
          ]
        }
      ],
      "source": [
        "index = 45000\n",
        "print(df['text'][index])\n",
        "print('='*70)\n",
        "print(f'Actual sentiment is  : {df[\"sentiment\"][index]}')\n",
        "print('='*70)\n",
        "pro = predict_text(df['text'][index])\n",
        "status = \"positive\" if pro > 0.5 else \"negative\"\n",
        "pro = (1 - pro) if status == \"negative\" else pro\n",
        "print(f'Predicted sentiment is {status} with a probability of {pro}')"
      ]
    },
    {
      "cell_type": "markdown",
      "metadata": {
        "id": "ngAZV3O1DSi-"
      },
      "source": [
        "Run for CNN"
      ]
    },
    {
      "cell_type": "code",
      "execution_count": null,
      "metadata": {
        "id": "nQ6SlL0QH6Or"
      },
      "outputs": [],
      "source": [
        "%run training_testing.py"
      ]
    },
    {
      "cell_type": "markdown",
      "metadata": {
        "id": "XbPfDLkzDU84"
      },
      "source": [
        "Loading saved Model for testing"
      ]
    },
    {
      "cell_type": "code",
      "execution_count": null,
      "metadata": {
        "id": "G31KXF8XTq8N"
      },
      "outputs": [],
      "source": [
        "import torch\n",
        "import time\n",
        "import pandas as pd\n",
        "import torch.optim as opt\n",
        "from dataset import *\n",
        "from cnn_model import *\n",
        "from sklearn.metrics import classification_reportsification_report\n",
        "import training_testing\n",
        "\n",
        "PATH=\"cnn_big_model_500_with_padding.pth\"\n",
        "cnn_model = torch.load(PATH)\n",
        "cnn_model.eval()"
      ]
    }
  ],
  "metadata": {
    "accelerator": "GPU",
    "colab": {
      "provenance": []
    },
    "gpuClass": "standard",
    "kernelspec": {
      "display_name": "Python 3",
      "name": "python3"
    },
    "language_info": {
      "codemirror_mode": {
        "name": "ipython",
        "version": 3
      },
      "file_extension": ".py",
      "mimetype": "text/x-python",
      "name": "python",
      "nbconvert_exporter": "python",
      "pygments_lexer": "ipython3",
      "version": "3.10.9"
    }
  },
  "nbformat": 4,
  "nbformat_minor": 0
}
